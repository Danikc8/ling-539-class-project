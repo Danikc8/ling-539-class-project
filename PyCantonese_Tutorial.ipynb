{
 "cells": [
  {
   "cell_type": "markdown",
   "id": "d3a2b0b0-8fc1-48f2-9141-c8c90abac3ca",
   "metadata": {},
   "source": [
    "# Tutorial on Using PyCantonese"
   ]
  },
  {
   "cell_type": "markdown",
   "id": "bab8674b-2ad6-4c66-97ac-4b5e64b265ad",
   "metadata": {},
   "source": [
    "This tutorial will include an intro to PyCantonese and jyutping, how to install PyCantonese, how to segment words in Cantonese strings, and how to parse Cantonese strings into jyutping. We will focus on using this tool to parse Cantonese characters and strings and convert them into jyutping romanized characters and strings. Jyutping is useful for Cantonese language learners to visualize tones and focus on building a vocabulary before learning characters. This task is trickier than it sounds and can often cause problems with translations because certain characters can have multiple pronunciations due to changes in tone. Context is often important to determine which tone is correct for a character and strings will need to be segmented."
   ]
  },
  {
   "cell_type": "markdown",
   "id": "861566eb-7af6-4c04-8294-81d16037ae66",
   "metadata": {},
   "source": [
    "## What is PyCantonese?\n",
    "\n",
    "PyCantonese is a Python library authored by [Jackson L. Lee](https://jacksonllee.com/) that can be used for Cantonese linguistics and natural language processing (NLP) tasks. You can use PyCantonese for the following tasks:\n",
    "\n",
    "* Accessing and searching corpus data\n",
    "* Parsing and conversion tools for Jyutping romanization\n",
    "* Parsing Cantonese text\n",
    "* Removing stop words\n",
    "* Word segmentation\n",
    "* Part-of-speech tagging\n",
    "\n",
    "In this tutorial, we will focus on parsing and conversion of Cantonese characters for Jyutping romanization."
   ]
  },
  {
   "cell_type": "markdown",
   "id": "2aed9dd4-2216-4444-a6d0-32d00154bafa",
   "metadata": {},
   "source": [
    "## What is Jyutping?\n",
    "\n",
    "Jyutping was developed by the Linguistic Society of Hong Kong as a romanization system for Cantonese for the purpose of representing tone and pronuncation of Chinese characters. Each Jyutping representation typically consists of an initial (generally a consonant), a final (generally a series of vowels and/or consonants), and a tone (represented as a number between 1 and 6). Tones are particularly important in Cantonese as the tone can change the meaning of a word entirely (e.g., sik1 means \"to know\" and sik3 means \"to eat\"). Context is often important for machine translation to identify the correct tone for a word in Cantonese, which is something that PyCantonese is able to handle.\n",
    "\n",
    "It is important to note that Jyutping is not the only method of romanization for Cantonese. Once characters have been romanized to Jyutping in PyCantonese, the tool can then convert the Jyutping into Yale or TIPA. We will not cover that in this tutorial; see the following page for more information:\n",
    "\n",
    "* [Yale Conversion](https://pycantonese.org/jyutping.html#jyutping-to-yale-conversion)\n",
    "* [TIPA Conversion](https://pycantonese.org/jyutping.html#jyutping-to-tipa-conversion)"
   ]
  },
  {
   "cell_type": "markdown",
   "id": "7f747599-741e-43c1-9eef-cb009b323be0",
   "metadata": {},
   "source": [
    "## Download and Install\n",
    "\n",
    "Let's start by downloading the PyCantonese library."
   ]
  },
  {
   "cell_type": "code",
   "execution_count": 6,
   "id": "13fe6465-f8c9-4fc4-ac9b-c1addef9125e",
   "metadata": {},
   "outputs": [
    {
     "name": "stdout",
     "output_type": "stream",
     "text": [
      "Requirement already satisfied: pycantonese in /opt/anaconda3/lib/python3.12/site-packages (3.4.0)\n",
      "\u001b[33mWARNING: Retrying (Retry(total=4, connect=None, read=None, redirect=None, status=None)) after connection broken by 'NewConnectionError('<pip._vendor.urllib3.connection.HTTPSConnection object at 0x10798e210>: Failed to establish a new connection: [Errno 8] nodename nor servname provided, or not known')': /simple/pycantonese/\u001b[0m\u001b[33m\n",
      "\u001b[0m\u001b[33mWARNING: Retrying (Retry(total=3, connect=None, read=None, redirect=None, status=None)) after connection broken by 'NewConnectionError('<pip._vendor.urllib3.connection.HTTPSConnection object at 0x107ba63f0>: Failed to establish a new connection: [Errno 8] nodename nor servname provided, or not known')': /simple/pycantonese/\u001b[0m\u001b[33m\n",
      "\u001b[0m\u001b[33mWARNING: Retrying (Retry(total=2, connect=None, read=None, redirect=None, status=None)) after connection broken by 'NewConnectionError('<pip._vendor.urllib3.connection.HTTPSConnection object at 0x107ba5130>: Failed to establish a new connection: [Errno 8] nodename nor servname provided, or not known')': /simple/pycantonese/\u001b[0m\u001b[33m\n",
      "\u001b[0m\u001b[33mWARNING: Retrying (Retry(total=1, connect=None, read=None, redirect=None, status=None)) after connection broken by 'NewConnectionError('<pip._vendor.urllib3.connection.HTTPSConnection object at 0x107b8bf20>: Failed to establish a new connection: [Errno 8] nodename nor servname provided, or not known')': /simple/pycantonese/\u001b[0m\u001b[33m\n",
      "\u001b[0m\u001b[33mWARNING: Retrying (Retry(total=0, connect=None, read=None, redirect=None, status=None)) after connection broken by 'NewConnectionError('<pip._vendor.urllib3.connection.HTTPSConnection object at 0x107b8bbf0>: Failed to establish a new connection: [Errno 8] nodename nor servname provided, or not known')': /simple/pycantonese/\u001b[0m\u001b[33m\n",
      "\u001b[0mRequirement already satisfied: pylangacq<0.17.0,>=0.16.0 in /opt/anaconda3/lib/python3.12/site-packages (from pycantonese) (0.16.2)\n",
      "Requirement already satisfied: wordseg==0.0.2 in /opt/anaconda3/lib/python3.12/site-packages (from pycantonese) (0.0.2)\n",
      "Requirement already satisfied: python-dateutil<=3.0.0,>=2.0.0 in /opt/anaconda3/lib/python3.12/site-packages (from pylangacq<0.17.0,>=0.16.0->pycantonese) (2.9.0.post0)\n",
      "Requirement already satisfied: requests<=3.0.0,>=2.18.0 in /opt/anaconda3/lib/python3.12/site-packages (from pylangacq<0.17.0,>=0.16.0->pycantonese) (2.32.3)\n",
      "Requirement already satisfied: tabulate<=0.9.0,>=0.8.9 in /opt/anaconda3/lib/python3.12/site-packages (from tabulate[widechars]<=0.9.0,>=0.8.9->pylangacq<0.17.0,>=0.16.0->pycantonese) (0.9.0)\n",
      "Requirement already satisfied: six>=1.5 in /opt/anaconda3/lib/python3.12/site-packages (from python-dateutil<=3.0.0,>=2.0.0->pylangacq<0.17.0,>=0.16.0->pycantonese) (1.16.0)\n",
      "Requirement already satisfied: charset-normalizer<4,>=2 in /opt/anaconda3/lib/python3.12/site-packages (from requests<=3.0.0,>=2.18.0->pylangacq<0.17.0,>=0.16.0->pycantonese) (3.3.2)\n",
      "Requirement already satisfied: idna<4,>=2.5 in /opt/anaconda3/lib/python3.12/site-packages (from requests<=3.0.0,>=2.18.0->pylangacq<0.17.0,>=0.16.0->pycantonese) (3.7)\n",
      "Requirement already satisfied: urllib3<3,>=1.21.1 in /opt/anaconda3/lib/python3.12/site-packages (from requests<=3.0.0,>=2.18.0->pylangacq<0.17.0,>=0.16.0->pycantonese) (2.2.3)\n",
      "Requirement already satisfied: certifi>=2017.4.17 in /opt/anaconda3/lib/python3.12/site-packages (from requests<=3.0.0,>=2.18.0->pylangacq<0.17.0,>=0.16.0->pycantonese) (2025.4.26)\n",
      "Requirement already satisfied: wcwidth in /opt/anaconda3/lib/python3.12/site-packages (from tabulate[widechars]<=0.9.0,>=0.8.9->pylangacq<0.17.0,>=0.16.0->pycantonese) (0.2.5)\n",
      "Note: you may need to restart the kernel to use updated packages.\n"
     ]
    }
   ],
   "source": [
    "pip install --upgrade pycantonese"
   ]
  },
  {
   "cell_type": "markdown",
   "id": "af44899a-5254-460f-a061-65cdf0e688ea",
   "metadata": {},
   "source": [
    "Next, let's import it."
   ]
  },
  {
   "cell_type": "code",
   "execution_count": 8,
   "id": "57c2d9e6-b657-42a0-8af6-165bd542d20a",
   "metadata": {},
   "outputs": [],
   "source": [
    "import pycantonese"
   ]
  },
  {
   "cell_type": "markdown",
   "id": "f6e7527d-0ee2-4302-b311-def17f1c70d0",
   "metadata": {},
   "source": [
    "## Romanizing Chinese Characters to Jyutping\n",
    "\n",
    "PyCantonese has a built-in function called `characters_to_jyutping()` that takes a string in Cantonese represented by Chinese characters and returns the Jyutping romanization. This function can take either a single character or a string of characters. Word segmentation happens in the background of this function and the Jyutping is returned as a list of tuples. Let's run an example from the PyCantonese website."
   ]
  },
  {
   "cell_type": "code",
   "execution_count": 10,
   "id": "2766bb9b-478c-469c-8041-940e8a823735",
   "metadata": {},
   "outputs": [
    {
     "data": {
      "text/plain": [
       "[('香港人', 'hoeng1gong2jan4'), ('講', 'gong2'), ('廣東話', 'gwong2dung1waa2')]"
      ]
     },
     "execution_count": 10,
     "metadata": {},
     "output_type": "execute_result"
    }
   ],
   "source": [
    "pycantonese.characters_to_jyutping('香港人講廣東話')  # \"Hongkongers speak Cantonese\""
   ]
  },
  {
   "cell_type": "markdown",
   "id": "b4e2ab1f-94d0-42ee-b7b8-6ff024c45d44",
   "metadata": {},
   "source": [
    "PyCantonese is also able to handle tone change (a.k.a. 變音 *pinjam*) which can occur depending on the context in which a Cantonese word or morpheme appears. Let's look at an example from the PyCantonese website."
   ]
  },
  {
   "cell_type": "code",
   "execution_count": 12,
   "id": "84defd12-26df-48e1-a40e-8c5b01399cf5",
   "metadata": {},
   "outputs": [
    {
     "data": {
      "text/plain": [
       "[('蛋', 'daan2')]"
      ]
     },
     "execution_count": 12,
     "metadata": {},
     "output_type": "execute_result"
    }
   ],
   "source": [
    "# The correct pronunciation of 蛋 is with tone 2 (high-rising) as a standalone word.\n",
    "pycantonese.characters_to_jyutping('蛋')  # egg"
   ]
  },
  {
   "cell_type": "code",
   "execution_count": 13,
   "id": "62360474-7848-4585-8f4e-5694637c9031",
   "metadata": {},
   "outputs": [
    {
     "data": {
      "text/plain": [
       "[('蛋糕', 'daan6gou1')]"
      ]
     },
     "execution_count": 13,
     "metadata": {},
     "output_type": "execute_result"
    }
   ],
   "source": [
    "# The correct pronunciation of 蛋 is with tone 6 (low-level) in 蛋糕.\n",
    "pycantonese.characters_to_jyutping('蛋糕')  # cake"
   ]
  },
  {
   "cell_type": "markdown",
   "id": "673374d4-31ab-48cb-a417-34414859cbfe",
   "metadata": {},
   "source": [
    "## Romanizing a corpus\n",
    "\n",
    "PyCantonese uses [PyLangAcq](https://pylangacq.org/) to parse corpus data in the [CHAT](https://pylangacq.org/transcriptions.html#chat-format) format. The [Hong Kong Cantonese Corpus (HKCanCor)](https://github.com/fcbond/hkcancor) comes built in to PyCantonese and can be called using the `hkcancor()` function. The HKCanCor has been segmented by word."
   ]
  },
  {
   "cell_type": "code",
   "execution_count": 15,
   "id": "05f0dea2-973d-46e0-bdd3-c1df21dbd48d",
   "metadata": {},
   "outputs": [],
   "source": [
    "# Call the built-in HKCanCor corpus\n",
    "hkcancor = pycantonese.hkcancor()"
   ]
  },
  {
   "cell_type": "code",
   "execution_count": 16,
   "id": "b15740ea-d30f-49b1-b114-c299dafb7c68",
   "metadata": {},
   "outputs": [
    {
     "data": {
      "text/plain": [
       "58"
      ]
     },
     "execution_count": 16,
     "metadata": {},
     "output_type": "execute_result"
    }
   ],
   "source": [
    "hkcancor.n_files()  # number of data files"
   ]
  },
  {
   "cell_type": "code",
   "execution_count": 17,
   "id": "6e815a76-0eb9-408f-b334-4636c7b17f8a",
   "metadata": {},
   "outputs": [
    {
     "data": {
      "text/plain": [
       "153654"
      ]
     },
     "execution_count": 17,
     "metadata": {},
     "output_type": "execute_result"
    }
   ],
   "source": [
    "len(hkcancor.words()) # number of words as segmented from all the utterances"
   ]
  },
  {
   "cell_type": "code",
   "execution_count": 18,
   "id": "299bf409-8754-4141-8e82-efbc87f24aca",
   "metadata": {},
   "outputs": [
    {
     "data": {
      "text/plain": [
       "[['喂', '遲', '啲', '去', '唔', '去', '旅行', '啊', '?'],\n",
       " ['你', '老公', '有冇', '平', '機票', '啊', '?'],\n",
       " ['平', '機票', '要', '淡季', '先', '有得', '平', '𡃉', '喎', '.'],\n",
       " ['而家', '旺', '-', '.'],\n",
       " ['冇得', '去', '嗱', '.'],\n",
       " ['吓', '?'],\n",
       " ['而家', '旺季', '.'],\n",
       " ['通常', '都', '係', '貴', '𡃉', '喎', ',', '啲', '機票', '.'],\n",
       " ['係', '咩', '?'],\n",
       " ['我',\n",
       "  '聽',\n",
       "  '朋友',\n",
       "  '講',\n",
       "  '話',\n",
       "  '去',\n",
       "  ',',\n",
       "  '誒',\n",
       "  ',',\n",
       "  'Orlando',\n",
       "  '嗰個',\n",
       "  '舊',\n",
       "  '-',\n",
       "  '嗰個',\n",
       "  '迪士尼',\n",
       "  '呢',\n",
       "  ',',\n",
       "  '廿五',\n",
       "  '週年',\n",
       "  '喎',\n",
       "  '.']]"
      ]
     },
     "execution_count": 18,
     "metadata": {},
     "output_type": "execute_result"
    }
   ],
   "source": [
    "hkcancor.words(by_utterances=True)[:10] # list of the first 10 utterances, segmented by word"
   ]
  },
  {
   "cell_type": "markdown",
   "id": "5a7dcbf4-af65-4894-8a30-2fe66e0414bb",
   "metadata": {},
   "source": [
    "We could pass just the segmented words using `words()` to `characters_to_jyutping()`."
   ]
  },
  {
   "cell_type": "code",
   "execution_count": 20,
   "id": "d3730206-3c0a-4c20-a5d1-483808144409",
   "metadata": {},
   "outputs": [
    {
     "name": "stdout",
     "output_type": "stream",
     "text": [
      "[('喂', 'wai3')]\n",
      "[('遲', 'ci4')]\n",
      "[('啲', 'di1')]\n",
      "[('去', 'heoi3')]\n",
      "[('唔', 'm4')]\n",
      "[('去', 'heoi3')]\n",
      "[('旅行', 'leoi5hang4')]\n",
      "[('啊', 'aa3')]\n",
      "[('?', None)]\n",
      "[('你', 'nei5')]\n",
      "[('老公', 'lou5gung1')]\n",
      "[('有冇', 'jau5mou5')]\n",
      "[('平', 'peng4')]\n",
      "[('機票', 'gei1piu3')]\n",
      "[('啊', 'aa3')]\n",
      "[('?', None)]\n",
      "[('平', 'peng4')]\n",
      "[('機票', 'gei1piu3')]\n",
      "[('要', 'jiu3')]\n",
      "[('淡季', 'daam6gwai3')]\n"
     ]
    }
   ],
   "source": [
    "for word in hkcancor.words()[:20]: # iterating through the first 20 words\n",
    "    print(pycantonese.characters_to_jyutping(word))"
   ]
  },
  {
   "cell_type": "markdown",
   "id": "2d6c4ad8-08fa-4144-b980-1d741deed991",
   "metadata": {},
   "source": [
    "Or we could pass entire utterances to `characters_to_jyutping()`."
   ]
  },
  {
   "cell_type": "code",
   "execution_count": 22,
   "id": "e31b8ff2-d1ac-48c4-94f3-644e429a21fd",
   "metadata": {},
   "outputs": [
    {
     "name": "stdout",
     "output_type": "stream",
     "text": [
      "[('喂', 'wai3'), ('遲啲', 'ci4di1'), ('去', 'heoi3'), ('唔', 'm4'), ('去', 'heoi3'), ('旅行', 'leoi5hang4'), ('啊', 'aa3'), ('?', None)]\n",
      "[('你', 'nei5'), ('老公', 'lou5gung1'), ('有冇', 'jau5mou5'), ('平', 'peng4'), ('機票', 'gei1piu3'), ('啊', 'aa3'), ('?', None)]\n",
      "[('平', 'peng4'), ('機票', 'gei1piu3'), ('要', 'jiu3'), ('淡季', 'daam6gwai3'), ('先有', 'sin1jau5'), ('得', 'dak1'), ('平', 'peng4'), ('𡃉', 'gaa3'), ('喎', 'wo3'), ('.', None)]\n",
      "[('而家', 'ji4gaa1'), ('旺', 'wong6'), ('-', None), ('.', None)]\n",
      "[('冇得', 'mou5dak1'), ('去', 'heoi3'), ('嗱', 'laa4'), ('.', None)]\n",
      "[('吓', 'haa2'), ('?', None)]\n",
      "[('而家', 'ji4gaa1'), ('旺季', 'wong6gwai3'), ('.', None)]\n",
      "[('通常', 'tung1soeng4'), ('都', 'dou1'), ('係', 'hai6'), ('貴', 'gwai3'), ('𡃉', 'gaa3'), ('喎', 'wo3'), (',', None), ('啲', 'di1'), ('機票', 'gei1piu3'), ('.', None)]\n",
      "[('係', 'hai6'), ('咩', 'me1'), ('?', None)]\n",
      "[('我', 'ngo5'), ('聽', 'teng1'), ('朋友', 'pang4jau5'), ('講話', 'gong2waa2'), ('去', 'heoi3'), (',', None), ('誒', 'e6'), (',', None), ('Orlando', None), ('嗰個', 'go2go3'), ('舊', 'gau6'), ('-', None), ('嗰個', 'go2go3'), ('迪士尼', 'dik6si6nei4'), ('呢', 'ne1'), (',', None), ('廿五', 'jaa6ng5'), ('週年', 'zau1nin4'), ('喎', 'wo3'), ('.', None)]\n"
     ]
    }
   ],
   "source": [
    "utterance = hkcancor.words(by_utterances=True)\n",
    "utterance_list = []\n",
    "\n",
    "for i in utterance:\n",
    "    sentence = \" \".join(i) # Concatenate segmented words in an utternance to a string \n",
    "    utterance_list.append(sentence) # Add that string to a list\n",
    "\n",
    "for j in utterance_list[:10]:\n",
    "    print(pycantonese.characters_to_jyutping(j))"
   ]
  },
  {
   "cell_type": "markdown",
   "id": "2d7d762f-7074-46d5-9ed8-a229b06c2be3",
   "metadata": {},
   "source": [
    "Notice that PyCantonese accounts for punctuation by labeling it \"None\"."
   ]
  },
  {
   "cell_type": "markdown",
   "id": "e6a7624f-1754-4213-b07a-1b505fafb15f",
   "metadata": {},
   "source": [
    "## Conclusion\n",
    "\n",
    "There is much more you can do with PyCantonese; this was just a taste! For further information on how you can use this tool for NLP tasks, see the [PyCantonese website](https://pycantonese.org/quickstart.html)."
   ]
  }
 ],
 "metadata": {
  "kernelspec": {
   "display_name": "Python 3 (ipykernel)",
   "language": "python",
   "name": "python3"
  },
  "language_info": {
   "codemirror_mode": {
    "name": "ipython",
    "version": 3
   },
   "file_extension": ".py",
   "mimetype": "text/x-python",
   "name": "python",
   "nbconvert_exporter": "python",
   "pygments_lexer": "ipython3",
   "version": "3.12.7"
  }
 },
 "nbformat": 4,
 "nbformat_minor": 5
}
