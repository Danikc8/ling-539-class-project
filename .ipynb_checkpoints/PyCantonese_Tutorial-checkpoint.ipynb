{
 "cells": [
  {
   "cell_type": "markdown",
   "id": "d3a2b0b0-8fc1-48f2-9141-c8c90abac3ca",
   "metadata": {},
   "source": [
    "# Tutorial on Using PyCantonese"
   ]
  },
  {
   "cell_type": "markdown",
   "id": "bab8674b-2ad6-4c66-97ac-4b5e64b265ad",
   "metadata": {},
   "source": [
    "This tutorial will include an intro to PyCantonese and jyutping, how to install PyCantonese, how to segment words in Cantonese strings, and how to parse Cantonese strings into jyutping. We will focus on using this tool to parse Cantonese characters and strings and convert them into jyutping romanized characters and strings. Jyutping is useful for Cantonese language learners to visualize tones and focus on building a vocabulary before learning characters. This task is trickier than it sounds and can often cause problems with translations because certain characters can have multiple pronunciations due to changes in tone. Context is often important to determine which tone is correct for a character and strings will need to be segmented."
   ]
  },
  {
   "cell_type": "markdown",
   "id": "861566eb-7af6-4c04-8294-81d16037ae66",
   "metadata": {},
   "source": [
    "## What is PyCantonese\n",
    "\n",
    "PyCantonese is a Python library authored by [Jackson L. Lee](https://jacksonllee.com/) that can be used for Cantonese linguistics and natural language processing (NLP) tasks. You can use PyCantonese for the following tasks:\n",
    "\n",
    "* Accessing and searching corpus data\n",
    "* Parsing and conversion tools for Jyutping romanization\n",
    "* Parsing Cantonese text\n",
    "* Removing stop words\n",
    "* Word segmentation\n",
    "* Part-of-speech tagging\n",
    "\n",
    "In this tutorial, we will focus on parsing and conversion of Cantonese characters for Jyutping romanization."
   ]
  },
  {
   "cell_type": "markdown",
   "id": "2aed9dd4-2216-4444-a6d0-32d00154bafa",
   "metadata": {},
   "source": [
    "## What is Jyutping?\n",
    "\n",
    "Jyutping was developed by the Linguistic Society of Hong Kong as a romanization system for Cantonese for the purpose of representing tone and pronuncation of Chinese characters. Each Jyutping representation typically consists of an initial (generally a consonant), a final (generally a series of vowels and/or consonants), and a tone (represented as a number between 1 and 6). Tones are particularly important in Cantonese as the tone can change the meaning of a word entirely (e.g., sik1 means \"to know\" and sik3 means \"to eat\"). Context is often important for machine translation to identify the correct tone for a word in Cantonese, which is something that PyCantonese is able to handle.\n",
    "\n",
    "It is important to note that Jyutping is not the only method of romanization for Cantonese. Once characters have been romanized to Jyutping in PyCantonese, the tool can then convert the Jyutping into Yale or TIPA. We will not cover that in this tutorial; see the following page for more information:\n",
    "\n",
    "* [Yale Conversion](https://pycantonese.org/jyutping.html#jyutping-to-yale-conversion)\n",
    "* [TIPA Conversion](https://pycantonese.org/jyutping.html#jyutping-to-tipa-conversion)"
   ]
  },
  {
   "cell_type": "markdown",
   "id": "7f747599-741e-43c1-9eef-cb009b323be0",
   "metadata": {},
   "source": [
    "## Download and Install\n",
    "\n",
    "Let's start by downloading the PyCantonese library."
   ]
  },
  {
   "cell_type": "code",
   "execution_count": 14,
   "id": "13fe6465-f8c9-4fc4-ac9b-c1addef9125e",
   "metadata": {},
   "outputs": [
    {
     "name": "stdout",
     "output_type": "stream",
     "text": [
      "Requirement already satisfied: pycantonese in /opt/anaconda3/lib/python3.12/site-packages (3.4.0)\n",
      "Requirement already satisfied: pylangacq<0.17.0,>=0.16.0 in /opt/anaconda3/lib/python3.12/site-packages (from pycantonese) (0.16.2)\n",
      "Requirement already satisfied: wordseg==0.0.2 in /opt/anaconda3/lib/python3.12/site-packages (from pycantonese) (0.0.2)\n",
      "Requirement already satisfied: python-dateutil<=3.0.0,>=2.0.0 in /opt/anaconda3/lib/python3.12/site-packages (from pylangacq<0.17.0,>=0.16.0->pycantonese) (2.9.0.post0)\n",
      "Requirement already satisfied: requests<=3.0.0,>=2.18.0 in /opt/anaconda3/lib/python3.12/site-packages (from pylangacq<0.17.0,>=0.16.0->pycantonese) (2.32.3)\n",
      "Requirement already satisfied: tabulate<=0.9.0,>=0.8.9 in /opt/anaconda3/lib/python3.12/site-packages (from tabulate[widechars]<=0.9.0,>=0.8.9->pylangacq<0.17.0,>=0.16.0->pycantonese) (0.9.0)\n",
      "Requirement already satisfied: six>=1.5 in /opt/anaconda3/lib/python3.12/site-packages (from python-dateutil<=3.0.0,>=2.0.0->pylangacq<0.17.0,>=0.16.0->pycantonese) (1.16.0)\n",
      "Requirement already satisfied: charset-normalizer<4,>=2 in /opt/anaconda3/lib/python3.12/site-packages (from requests<=3.0.0,>=2.18.0->pylangacq<0.17.0,>=0.16.0->pycantonese) (3.3.2)\n",
      "Requirement already satisfied: idna<4,>=2.5 in /opt/anaconda3/lib/python3.12/site-packages (from requests<=3.0.0,>=2.18.0->pylangacq<0.17.0,>=0.16.0->pycantonese) (3.7)\n",
      "Requirement already satisfied: urllib3<3,>=1.21.1 in /opt/anaconda3/lib/python3.12/site-packages (from requests<=3.0.0,>=2.18.0->pylangacq<0.17.0,>=0.16.0->pycantonese) (2.2.3)\n",
      "Requirement already satisfied: certifi>=2017.4.17 in /opt/anaconda3/lib/python3.12/site-packages (from requests<=3.0.0,>=2.18.0->pylangacq<0.17.0,>=0.16.0->pycantonese) (2025.4.26)\n",
      "Requirement already satisfied: wcwidth in /opt/anaconda3/lib/python3.12/site-packages (from tabulate[widechars]<=0.9.0,>=0.8.9->pylangacq<0.17.0,>=0.16.0->pycantonese) (0.2.5)\n",
      "Note: you may need to restart the kernel to use updated packages.\n"
     ]
    }
   ],
   "source": [
    "pip install --upgrade pycantonese"
   ]
  },
  {
   "cell_type": "markdown",
   "id": "af44899a-5254-460f-a061-65cdf0e688ea",
   "metadata": {},
   "source": [
    "Next, let's import it."
   ]
  },
  {
   "cell_type": "code",
   "execution_count": 16,
   "id": "57c2d9e6-b657-42a0-8af6-165bd542d20a",
   "metadata": {},
   "outputs": [],
   "source": [
    "import pycantonese"
   ]
  },
  {
   "cell_type": "markdown",
   "id": "f6e7527d-0ee2-4302-b311-def17f1c70d0",
   "metadata": {},
   "source": [
    "## Romanizing Chinese Characters to Jyutping\n",
    "\n",
    "PyCantonese has a built-in function called `characters_to_jyutping()` that takes a string in Cantonese represented by Chinese characters and returns the Jyutping romanization. Word segmentation happens in the background of this function and the Jyutping is returned as a list of tuples. Let's run an example from the PyCantonese website."
   ]
  },
  {
   "cell_type": "code",
   "execution_count": 23,
   "id": "2766bb9b-478c-469c-8041-940e8a823735",
   "metadata": {},
   "outputs": [
    {
     "data": {
      "text/plain": [
       "[('香港人', 'hoeng1gong2jan4'), ('講', 'gong2'), ('廣東話', 'gwong2dung1waa2')]"
      ]
     },
     "execution_count": 23,
     "metadata": {},
     "output_type": "execute_result"
    }
   ],
   "source": [
    "pycantonese.characters_to_jyutping('香港人講廣東話')  # \"Hongkongers speak Cantonese\""
   ]
  },
  {
   "cell_type": "code",
   "execution_count": null,
   "id": "da57c62c-3154-4407-a693-98674f7a1623",
   "metadata": {},
   "outputs": [],
   "source": []
  }
 ],
 "metadata": {
  "kernelspec": {
   "display_name": "Python 3 (ipykernel)",
   "language": "python",
   "name": "python3"
  },
  "language_info": {
   "codemirror_mode": {
    "name": "ipython",
    "version": 3
   },
   "file_extension": ".py",
   "mimetype": "text/x-python",
   "name": "python",
   "nbconvert_exporter": "python",
   "pygments_lexer": "ipython3",
   "version": "3.12.7"
  }
 },
 "nbformat": 4,
 "nbformat_minor": 5
}
